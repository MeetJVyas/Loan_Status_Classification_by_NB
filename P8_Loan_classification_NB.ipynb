{
 "cells": [
  {
   "cell_type": "markdown",
   "id": "3cea2032",
   "metadata": {},
   "source": [
    "# Problem Statement:"
   ]
  },
  {
   "cell_type": "markdown",
   "id": "4776755e",
   "metadata": {},
   "source": [
    "##### Classification of Loan Status using dataset containing loan id, gender classification, etc."
   ]
  },
  {
   "cell_type": "markdown",
   "id": "14e8d759",
   "metadata": {},
   "source": [
    "##### Importing the libraries"
   ]
  },
  {
   "cell_type": "code",
   "execution_count": 1,
   "id": "f9721de2",
   "metadata": {},
   "outputs": [],
   "source": [
    "import numpy as np\n",
    "import pandas as pd\n",
    "import matplotlib.pyplot as plt\n",
    "import seaborn as sns\n",
    "from sklearn.model_selection import train_test_split\n",
    "from sklearn.preprocessing import LabelEncoder\n",
    "from sklearn.naive_bayes import GaussianNB"
   ]
  },
  {
   "cell_type": "markdown",
   "id": "e30177ce",
   "metadata": {},
   "source": [
    "## Part 1 - Data Exploration and Pre-Processing"
   ]
  },
  {
   "cell_type": "markdown",
   "id": "7c223d1e",
   "metadata": {},
   "source": [
    "#### 1 - Loading the Dataset"
   ]
  },
  {
   "cell_type": "code",
   "execution_count": 2,
   "id": "c5746c72",
   "metadata": {},
   "outputs": [
    {
     "data": {
      "text/html": [
       "<div>\n",
       "<style scoped>\n",
       "    .dataframe tbody tr th:only-of-type {\n",
       "        vertical-align: middle;\n",
       "    }\n",
       "\n",
       "    .dataframe tbody tr th {\n",
       "        vertical-align: top;\n",
       "    }\n",
       "\n",
       "    .dataframe thead th {\n",
       "        text-align: right;\n",
       "    }\n",
       "</style>\n",
       "<table border=\"1\" class=\"dataframe\">\n",
       "  <thead>\n",
       "    <tr style=\"text-align: right;\">\n",
       "      <th></th>\n",
       "      <th>ID</th>\n",
       "      <th>LIMIT_BAL</th>\n",
       "      <th>AGE</th>\n",
       "      <th>BILL_AMT1</th>\n",
       "      <th>BILL_AMT2</th>\n",
       "      <th>BILL_AMT3</th>\n",
       "      <th>BILL_AMT4</th>\n",
       "      <th>BILL_AMT5</th>\n",
       "      <th>BILL_AMT6</th>\n",
       "      <th>PAY_AMT1</th>\n",
       "      <th>PAY_AMT2</th>\n",
       "      <th>PAY_AMT3</th>\n",
       "      <th>PAY_AMT4</th>\n",
       "      <th>PAY_AMT5</th>\n",
       "      <th>PAY_AMT6</th>\n",
       "      <th>Default Status</th>\n",
       "    </tr>\n",
       "  </thead>\n",
       "  <tbody>\n",
       "    <tr>\n",
       "      <th>0</th>\n",
       "      <td>1</td>\n",
       "      <td>2.0</td>\n",
       "      <td>24</td>\n",
       "      <td>3913.0</td>\n",
       "      <td>312.0</td>\n",
       "      <td>689.0</td>\n",
       "      <td>NaN</td>\n",
       "      <td>NaN</td>\n",
       "      <td>NaN</td>\n",
       "      <td>NaN</td>\n",
       "      <td>689.0</td>\n",
       "      <td>NaN</td>\n",
       "      <td>NaN</td>\n",
       "      <td>NaN</td>\n",
       "      <td>NaN</td>\n",
       "      <td>Default</td>\n",
       "    </tr>\n",
       "    <tr>\n",
       "      <th>1</th>\n",
       "      <td>2</td>\n",
       "      <td>12.0</td>\n",
       "      <td>26</td>\n",
       "      <td>2682.0</td>\n",
       "      <td>1725.0</td>\n",
       "      <td>2682.0</td>\n",
       "      <td>3272.0</td>\n",
       "      <td>3455.0</td>\n",
       "      <td>3261.0</td>\n",
       "      <td>NaN</td>\n",
       "      <td>1.0</td>\n",
       "      <td>1.0</td>\n",
       "      <td>1.0</td>\n",
       "      <td>NaN</td>\n",
       "      <td>2.0</td>\n",
       "      <td>Default</td>\n",
       "    </tr>\n",
       "    <tr>\n",
       "      <th>2</th>\n",
       "      <td>3</td>\n",
       "      <td>9.0</td>\n",
       "      <td>34</td>\n",
       "      <td>29239.0</td>\n",
       "      <td>1427.0</td>\n",
       "      <td>13559.0</td>\n",
       "      <td>14331.0</td>\n",
       "      <td>14948.0</td>\n",
       "      <td>15549.0</td>\n",
       "      <td>1518.0</td>\n",
       "      <td>15.0</td>\n",
       "      <td>1.0</td>\n",
       "      <td>1.0</td>\n",
       "      <td>1.0</td>\n",
       "      <td>5.0</td>\n",
       "      <td>Not Default</td>\n",
       "    </tr>\n",
       "    <tr>\n",
       "      <th>3</th>\n",
       "      <td>4</td>\n",
       "      <td>5.0</td>\n",
       "      <td>37</td>\n",
       "      <td>4699.0</td>\n",
       "      <td>48233.0</td>\n",
       "      <td>49291.0</td>\n",
       "      <td>28314.0</td>\n",
       "      <td>28959.0</td>\n",
       "      <td>29547.0</td>\n",
       "      <td>2.0</td>\n",
       "      <td>219.0</td>\n",
       "      <td>12.0</td>\n",
       "      <td>11.0</td>\n",
       "      <td>169.0</td>\n",
       "      <td>1.0</td>\n",
       "      <td>Not Default</td>\n",
       "    </tr>\n",
       "    <tr>\n",
       "      <th>4</th>\n",
       "      <td>5</td>\n",
       "      <td>5.0</td>\n",
       "      <td>57</td>\n",
       "      <td>8617.0</td>\n",
       "      <td>567.0</td>\n",
       "      <td>35835.0</td>\n",
       "      <td>294.0</td>\n",
       "      <td>19146.0</td>\n",
       "      <td>19131.0</td>\n",
       "      <td>2.0</td>\n",
       "      <td>36681.0</td>\n",
       "      <td>1.0</td>\n",
       "      <td>9.0</td>\n",
       "      <td>689.0</td>\n",
       "      <td>679.0</td>\n",
       "      <td>Not Default</td>\n",
       "    </tr>\n",
       "  </tbody>\n",
       "</table>\n",
       "</div>"
      ],
      "text/plain": [
       "   ID  LIMIT_BAL  AGE  BILL_AMT1  BILL_AMT2  BILL_AMT3  BILL_AMT4  BILL_AMT5  \\\n",
       "0   1        2.0   24     3913.0      312.0      689.0        NaN        NaN   \n",
       "1   2       12.0   26     2682.0     1725.0     2682.0     3272.0     3455.0   \n",
       "2   3        9.0   34    29239.0     1427.0    13559.0    14331.0    14948.0   \n",
       "3   4        5.0   37     4699.0    48233.0    49291.0    28314.0    28959.0   \n",
       "4   5        5.0   57     8617.0      567.0    35835.0      294.0    19146.0   \n",
       "\n",
       "   BILL_AMT6  PAY_AMT1  PAY_AMT2  PAY_AMT3  PAY_AMT4  PAY_AMT5  PAY_AMT6  \\\n",
       "0        NaN       NaN     689.0       NaN       NaN       NaN       NaN   \n",
       "1     3261.0       NaN       1.0       1.0       1.0       NaN       2.0   \n",
       "2    15549.0    1518.0      15.0       1.0       1.0       1.0       5.0   \n",
       "3    29547.0       2.0     219.0      12.0      11.0     169.0       1.0   \n",
       "4    19131.0       2.0   36681.0       1.0       9.0     689.0     679.0   \n",
       "\n",
       "  Default Status  \n",
       "0        Default  \n",
       "1        Default  \n",
       "2    Not Default  \n",
       "3    Not Default  \n",
       "4    Not Default  "
      ]
     },
     "execution_count": 2,
     "metadata": {},
     "output_type": "execute_result"
    }
   ],
   "source": [
    "df = pd.read_csv(r\"C:\\Users\\Vyas\\1_Assignment\\ML FT Projects\\Naive_Bayes\\P8_Classification_Loan_Status\\Python_Project_7_Nai.csv\")\n",
    "df.head()"
   ]
  },
  {
   "cell_type": "markdown",
   "id": "015f105a",
   "metadata": {},
   "source": [
    "#### 2 - Checking the null values"
   ]
  },
  {
   "cell_type": "code",
   "execution_count": 3,
   "id": "082af68d",
   "metadata": {},
   "outputs": [
    {
     "data": {
      "text/plain": [
       "ID                   0\n",
       "LIMIT_BAL            0\n",
       "AGE                  0\n",
       "BILL_AMT1         2008\n",
       "BILL_AMT2         2506\n",
       "BILL_AMT3         2870\n",
       "BILL_AMT4         3195\n",
       "BILL_AMT5         3506\n",
       "BILL_AMT6         4020\n",
       "PAY_AMT1          5249\n",
       "PAY_AMT2          5396\n",
       "PAY_AMT3          5968\n",
       "PAY_AMT4          6408\n",
       "PAY_AMT5          6703\n",
       "PAY_AMT6          7173\n",
       "Default Status       0\n",
       "dtype: int64"
      ]
     },
     "execution_count": 3,
     "metadata": {},
     "output_type": "execute_result"
    }
   ],
   "source": [
    "df.isnull().sum()"
   ]
  },
  {
   "cell_type": "markdown",
   "id": "0c9e1e0f",
   "metadata": {},
   "source": [
    "#### 3 - Printing the column names"
   ]
  },
  {
   "cell_type": "code",
   "execution_count": 4,
   "id": "7a7dce5c",
   "metadata": {},
   "outputs": [
    {
     "data": {
      "text/plain": [
       "Index(['ID', 'LIMIT_BAL', 'AGE', 'BILL_AMT1', 'BILL_AMT2', 'BILL_AMT3',\n",
       "       'BILL_AMT4', 'BILL_AMT5', 'BILL_AMT6', 'PAY_AMT1', 'PAY_AMT2',\n",
       "       'PAY_AMT3', 'PAY_AMT4', 'PAY_AMT5', 'PAY_AMT6', 'Default Status'],\n",
       "      dtype='object')"
      ]
     },
     "execution_count": 4,
     "metadata": {},
     "output_type": "execute_result"
    }
   ],
   "source": [
    "df.columns"
   ]
  },
  {
   "cell_type": "markdown",
   "id": "15e5031f",
   "metadata": {},
   "source": [
    "#### 4 - Creating list of all columns that contain null values"
   ]
  },
  {
   "cell_type": "code",
   "execution_count": 5,
   "id": "680c2bf8",
   "metadata": {},
   "outputs": [
    {
     "name": "stdout",
     "output_type": "stream",
     "text": [
      "Columns with the Null Values in the dataset:  ['BILL_AMT1', 'BILL_AMT2', 'BILL_AMT3', 'BILL_AMT4', 'BILL_AMT5', 'BILL_AMT6', 'PAY_AMT1', 'PAY_AMT2', 'PAY_AMT3', 'PAY_AMT4', 'PAY_AMT5', 'PAY_AMT6']\n"
     ]
    }
   ],
   "source": [
    "null_list = []\n",
    "for col in df:\n",
    "    if df[col].isnull().sum() != 0:\n",
    "        null_list.append(col)\n",
    "print(\"Columns with the Null Values in the dataset: \",null_list)"
   ]
  },
  {
   "cell_type": "markdown",
   "id": "01509e5d",
   "metadata": {},
   "source": [
    "#### 5 - Fill all the null values with mean using for loop"
   ]
  },
  {
   "cell_type": "code",
   "execution_count": 6,
   "id": "37604055",
   "metadata": {},
   "outputs": [
    {
     "data": {
      "text/plain": [
       "ID                0\n",
       "LIMIT_BAL         0\n",
       "AGE               0\n",
       "BILL_AMT1         0\n",
       "BILL_AMT2         0\n",
       "BILL_AMT3         0\n",
       "BILL_AMT4         0\n",
       "BILL_AMT5         0\n",
       "BILL_AMT6         0\n",
       "PAY_AMT1          0\n",
       "PAY_AMT2          0\n",
       "PAY_AMT3          0\n",
       "PAY_AMT4          0\n",
       "PAY_AMT5          0\n",
       "PAY_AMT6          0\n",
       "Default Status    0\n",
       "dtype: int64"
      ]
     },
     "execution_count": 6,
     "metadata": {},
     "output_type": "execute_result"
    }
   ],
   "source": [
    "for col in df:\n",
    "    if df[col].isnull().sum() != 0:\n",
    "        df[col] = df[col].fillna(df[col].mean())\n",
    "df.isnull().sum()"
   ]
  },
  {
   "cell_type": "markdown",
   "id": "954f89c7",
   "metadata": {},
   "source": [
    "#### 6 - Getting Data information"
   ]
  },
  {
   "cell_type": "code",
   "execution_count": 7,
   "id": "4021bee6",
   "metadata": {},
   "outputs": [
    {
     "name": "stdout",
     "output_type": "stream",
     "text": [
      "<class 'pandas.core.frame.DataFrame'>\n",
      "RangeIndex: 30000 entries, 0 to 29999\n",
      "Data columns (total 16 columns):\n",
      " #   Column          Non-Null Count  Dtype  \n",
      "---  ------          --------------  -----  \n",
      " 0   ID              30000 non-null  int64  \n",
      " 1   LIMIT_BAL       30000 non-null  float64\n",
      " 2   AGE             30000 non-null  int64  \n",
      " 3   BILL_AMT1       30000 non-null  float64\n",
      " 4   BILL_AMT2       30000 non-null  float64\n",
      " 5   BILL_AMT3       30000 non-null  float64\n",
      " 6   BILL_AMT4       30000 non-null  float64\n",
      " 7   BILL_AMT5       30000 non-null  float64\n",
      " 8   BILL_AMT6       30000 non-null  float64\n",
      " 9   PAY_AMT1        30000 non-null  float64\n",
      " 10  PAY_AMT2        30000 non-null  float64\n",
      " 11  PAY_AMT3        30000 non-null  float64\n",
      " 12  PAY_AMT4        30000 non-null  float64\n",
      " 13  PAY_AMT5        30000 non-null  float64\n",
      " 14  PAY_AMT6        30000 non-null  float64\n",
      " 15  Default Status  30000 non-null  object \n",
      "dtypes: float64(13), int64(2), object(1)\n",
      "memory usage: 3.7+ MB\n"
     ]
    }
   ],
   "source": [
    "df.info()"
   ]
  },
  {
   "cell_type": "markdown",
   "id": "488a837a",
   "metadata": {},
   "source": [
    "#### 7 - Describing the Data"
   ]
  },
  {
   "cell_type": "code",
   "execution_count": 8,
   "id": "f47a094b",
   "metadata": {},
   "outputs": [
    {
     "data": {
      "text/html": [
       "<div>\n",
       "<style scoped>\n",
       "    .dataframe tbody tr th:only-of-type {\n",
       "        vertical-align: middle;\n",
       "    }\n",
       "\n",
       "    .dataframe tbody tr th {\n",
       "        vertical-align: top;\n",
       "    }\n",
       "\n",
       "    .dataframe thead th {\n",
       "        text-align: right;\n",
       "    }\n",
       "</style>\n",
       "<table border=\"1\" class=\"dataframe\">\n",
       "  <thead>\n",
       "    <tr style=\"text-align: right;\">\n",
       "      <th></th>\n",
       "      <th>ID</th>\n",
       "      <th>LIMIT_BAL</th>\n",
       "      <th>AGE</th>\n",
       "      <th>BILL_AMT1</th>\n",
       "      <th>BILL_AMT2</th>\n",
       "      <th>BILL_AMT3</th>\n",
       "      <th>BILL_AMT4</th>\n",
       "      <th>BILL_AMT5</th>\n",
       "      <th>BILL_AMT6</th>\n",
       "      <th>PAY_AMT1</th>\n",
       "      <th>PAY_AMT2</th>\n",
       "      <th>PAY_AMT3</th>\n",
       "      <th>PAY_AMT4</th>\n",
       "      <th>PAY_AMT5</th>\n",
       "      <th>PAY_AMT6</th>\n",
       "    </tr>\n",
       "  </thead>\n",
       "  <tbody>\n",
       "    <tr>\n",
       "      <th>count</th>\n",
       "      <td>30000.000000</td>\n",
       "      <td>30000.000000</td>\n",
       "      <td>30000.000000</td>\n",
       "      <td>30000.000000</td>\n",
       "      <td>30000.000000</td>\n",
       "      <td>30000.000000</td>\n",
       "      <td>30000.00000</td>\n",
       "      <td>30000.000000</td>\n",
       "      <td>30000.000000</td>\n",
       "      <td>30000.000000</td>\n",
       "      <td>3.000000e+04</td>\n",
       "      <td>30000.000000</td>\n",
       "      <td>30000.000000</td>\n",
       "      <td>30000.000000</td>\n",
       "      <td>30000.000000</td>\n",
       "    </tr>\n",
       "    <tr>\n",
       "      <th>mean</th>\n",
       "      <td>10666.660700</td>\n",
       "      <td>14.648867</td>\n",
       "      <td>32.427900</td>\n",
       "      <td>33989.494570</td>\n",
       "      <td>33938.750418</td>\n",
       "      <td>32617.867011</td>\n",
       "      <td>30709.50416</td>\n",
       "      <td>29015.123424</td>\n",
       "      <td>28526.276559</td>\n",
       "      <td>2613.957537</td>\n",
       "      <td>2.922762e+03</td>\n",
       "      <td>2584.508988</td>\n",
       "      <td>2250.186122</td>\n",
       "      <td>2300.375885</td>\n",
       "      <td>2608.765760</td>\n",
       "    </tr>\n",
       "    <tr>\n",
       "      <th>std</th>\n",
       "      <td>9698.091793</td>\n",
       "      <td>189.496507</td>\n",
       "      <td>12.718991</td>\n",
       "      <td>59472.881131</td>\n",
       "      <td>58305.224138</td>\n",
       "      <td>55777.906879</td>\n",
       "      <td>51825.29715</td>\n",
       "      <td>48612.594594</td>\n",
       "      <td>48042.412239</td>\n",
       "      <td>11398.052166</td>\n",
       "      <td>1.675277e+04</td>\n",
       "      <td>10956.873040</td>\n",
       "      <td>9805.177073</td>\n",
       "      <td>9756.444917</td>\n",
       "      <td>11652.208534</td>\n",
       "    </tr>\n",
       "    <tr>\n",
       "      <th>min</th>\n",
       "      <td>1.000000</td>\n",
       "      <td>1.000000</td>\n",
       "      <td>3.000000</td>\n",
       "      <td>-154973.000000</td>\n",
       "      <td>-69777.000000</td>\n",
       "      <td>-157264.000000</td>\n",
       "      <td>-81334.00000</td>\n",
       "      <td>-81334.000000</td>\n",
       "      <td>-94625.000000</td>\n",
       "      <td>1.000000</td>\n",
       "      <td>1.000000e+00</td>\n",
       "      <td>1.000000</td>\n",
       "      <td>1.000000</td>\n",
       "      <td>1.000000</td>\n",
       "      <td>1.000000</td>\n",
       "    </tr>\n",
       "    <tr>\n",
       "      <th>25%</th>\n",
       "      <td>1850.500000</td>\n",
       "      <td>4.000000</td>\n",
       "      <td>26.000000</td>\n",
       "      <td>1788.000000</td>\n",
       "      <td>1847.750000</td>\n",
       "      <td>1862.000000</td>\n",
       "      <td>1782.00000</td>\n",
       "      <td>1718.000000</td>\n",
       "      <td>1724.000000</td>\n",
       "      <td>21.000000</td>\n",
       "      <td>1.900000e+01</td>\n",
       "      <td>15.000000</td>\n",
       "      <td>13.000000</td>\n",
       "      <td>13.000000</td>\n",
       "      <td>15.000000</td>\n",
       "    </tr>\n",
       "    <tr>\n",
       "      <th>50%</th>\n",
       "      <td>7483.500000</td>\n",
       "      <td>9.000000</td>\n",
       "      <td>33.000000</td>\n",
       "      <td>11569.000000</td>\n",
       "      <td>12637.000000</td>\n",
       "      <td>13255.000000</td>\n",
       "      <td>13350.00000</td>\n",
       "      <td>12847.000000</td>\n",
       "      <td>13398.500000</td>\n",
       "      <td>512.000000</td>\n",
       "      <td>5.150000e+02</td>\n",
       "      <td>431.000000</td>\n",
       "      <td>367.000000</td>\n",
       "      <td>387.000000</td>\n",
       "      <td>478.000000</td>\n",
       "    </tr>\n",
       "    <tr>\n",
       "      <th>75%</th>\n",
       "      <td>18746.250000</td>\n",
       "      <td>21.000000</td>\n",
       "      <td>41.000000</td>\n",
       "      <td>33989.494570</td>\n",
       "      <td>33938.750418</td>\n",
       "      <td>32617.867011</td>\n",
       "      <td>30709.50416</td>\n",
       "      <td>29015.123424</td>\n",
       "      <td>28526.276559</td>\n",
       "      <td>2613.957537</td>\n",
       "      <td>2.922762e+03</td>\n",
       "      <td>2584.508988</td>\n",
       "      <td>2250.186122</td>\n",
       "      <td>2300.375885</td>\n",
       "      <td>2608.765760</td>\n",
       "    </tr>\n",
       "    <tr>\n",
       "      <th>max</th>\n",
       "      <td>29999.000000</td>\n",
       "      <td>32768.000000</td>\n",
       "      <td>79.000000</td>\n",
       "      <td>964511.000000</td>\n",
       "      <td>983931.000000</td>\n",
       "      <td>693131.000000</td>\n",
       "      <td>891586.00000</td>\n",
       "      <td>927171.000000</td>\n",
       "      <td>961664.000000</td>\n",
       "      <td>873552.000000</td>\n",
       "      <td>1.684259e+06</td>\n",
       "      <td>417588.000000</td>\n",
       "      <td>528897.000000</td>\n",
       "      <td>426529.000000</td>\n",
       "      <td>528666.000000</td>\n",
       "    </tr>\n",
       "  </tbody>\n",
       "</table>\n",
       "</div>"
      ],
      "text/plain": [
       "                 ID     LIMIT_BAL           AGE      BILL_AMT1      BILL_AMT2  \\\n",
       "count  30000.000000  30000.000000  30000.000000   30000.000000   30000.000000   \n",
       "mean   10666.660700     14.648867     32.427900   33989.494570   33938.750418   \n",
       "std     9698.091793    189.496507     12.718991   59472.881131   58305.224138   \n",
       "min        1.000000      1.000000      3.000000 -154973.000000  -69777.000000   \n",
       "25%     1850.500000      4.000000     26.000000    1788.000000    1847.750000   \n",
       "50%     7483.500000      9.000000     33.000000   11569.000000   12637.000000   \n",
       "75%    18746.250000     21.000000     41.000000   33989.494570   33938.750418   \n",
       "max    29999.000000  32768.000000     79.000000  964511.000000  983931.000000   \n",
       "\n",
       "           BILL_AMT3     BILL_AMT4      BILL_AMT5      BILL_AMT6  \\\n",
       "count   30000.000000   30000.00000   30000.000000   30000.000000   \n",
       "mean    32617.867011   30709.50416   29015.123424   28526.276559   \n",
       "std     55777.906879   51825.29715   48612.594594   48042.412239   \n",
       "min   -157264.000000  -81334.00000  -81334.000000  -94625.000000   \n",
       "25%      1862.000000    1782.00000    1718.000000    1724.000000   \n",
       "50%     13255.000000   13350.00000   12847.000000   13398.500000   \n",
       "75%     32617.867011   30709.50416   29015.123424   28526.276559   \n",
       "max    693131.000000  891586.00000  927171.000000  961664.000000   \n",
       "\n",
       "            PAY_AMT1      PAY_AMT2       PAY_AMT3       PAY_AMT4  \\\n",
       "count   30000.000000  3.000000e+04   30000.000000   30000.000000   \n",
       "mean     2613.957537  2.922762e+03    2584.508988    2250.186122   \n",
       "std     11398.052166  1.675277e+04   10956.873040    9805.177073   \n",
       "min         1.000000  1.000000e+00       1.000000       1.000000   \n",
       "25%        21.000000  1.900000e+01      15.000000      13.000000   \n",
       "50%       512.000000  5.150000e+02     431.000000     367.000000   \n",
       "75%      2613.957537  2.922762e+03    2584.508988    2250.186122   \n",
       "max    873552.000000  1.684259e+06  417588.000000  528897.000000   \n",
       "\n",
       "            PAY_AMT5       PAY_AMT6  \n",
       "count   30000.000000   30000.000000  \n",
       "mean     2300.375885    2608.765760  \n",
       "std      9756.444917   11652.208534  \n",
       "min         1.000000       1.000000  \n",
       "25%        13.000000      15.000000  \n",
       "50%       387.000000     478.000000  \n",
       "75%      2300.375885    2608.765760  \n",
       "max    426529.000000  528666.000000  "
      ]
     },
     "execution_count": 8,
     "metadata": {},
     "output_type": "execute_result"
    }
   ],
   "source": [
    "df.describe()"
   ]
  },
  {
   "cell_type": "markdown",
   "id": "4f4886dc",
   "metadata": {},
   "source": [
    "#### 8 - Displaying the boxplot for LIMIT_BAL"
   ]
  },
  {
   "cell_type": "code",
   "execution_count": 9,
   "id": "527fc74f",
   "metadata": {
    "scrolled": true
   },
   "outputs": [
    {
     "data": {
      "text/html": [
       "<div>\n",
       "<style scoped>\n",
       "    .dataframe tbody tr th:only-of-type {\n",
       "        vertical-align: middle;\n",
       "    }\n",
       "\n",
       "    .dataframe tbody tr th {\n",
       "        vertical-align: top;\n",
       "    }\n",
       "\n",
       "    .dataframe thead th {\n",
       "        text-align: right;\n",
       "    }\n",
       "</style>\n",
       "<table border=\"1\" class=\"dataframe\">\n",
       "  <thead>\n",
       "    <tr style=\"text-align: right;\">\n",
       "      <th></th>\n",
       "      <th>ID</th>\n",
       "      <th>LIMIT_BAL</th>\n",
       "      <th>AGE</th>\n",
       "      <th>BILL_AMT1</th>\n",
       "      <th>BILL_AMT2</th>\n",
       "      <th>BILL_AMT3</th>\n",
       "      <th>BILL_AMT4</th>\n",
       "      <th>BILL_AMT5</th>\n",
       "      <th>BILL_AMT6</th>\n",
       "      <th>PAY_AMT1</th>\n",
       "      <th>PAY_AMT2</th>\n",
       "      <th>PAY_AMT3</th>\n",
       "      <th>PAY_AMT4</th>\n",
       "      <th>PAY_AMT5</th>\n",
       "      <th>PAY_AMT6</th>\n",
       "      <th>Default Status</th>\n",
       "    </tr>\n",
       "  </thead>\n",
       "  <tbody>\n",
       "    <tr>\n",
       "      <th>12525</th>\n",
       "      <td>12526</td>\n",
       "      <td>32768.0</td>\n",
       "      <td>42</td>\n",
       "      <td>34411.0</td>\n",
       "      <td>336175.0</td>\n",
       "      <td>33348.0</td>\n",
       "      <td>27725.0</td>\n",
       "      <td>256365.0</td>\n",
       "      <td>2436.0</td>\n",
       "      <td>11219.0</td>\n",
       "      <td>11461.0</td>\n",
       "      <td>91.0</td>\n",
       "      <td>8345.0</td>\n",
       "      <td>7783.0</td>\n",
       "      <td>92.0</td>\n",
       "      <td>Default</td>\n",
       "    </tr>\n",
       "  </tbody>\n",
       "</table>\n",
       "</div>"
      ],
      "text/plain": [
       "          ID  LIMIT_BAL  AGE  BILL_AMT1  BILL_AMT2  BILL_AMT3  BILL_AMT4  \\\n",
       "12525  12526    32768.0   42    34411.0   336175.0    33348.0    27725.0   \n",
       "\n",
       "       BILL_AMT5  BILL_AMT6  PAY_AMT1  PAY_AMT2  PAY_AMT3  PAY_AMT4  PAY_AMT5  \\\n",
       "12525   256365.0     2436.0   11219.0   11461.0      91.0    8345.0    7783.0   \n",
       "\n",
       "       PAY_AMT6 Default Status  \n",
       "12525      92.0        Default  "
      ]
     },
     "execution_count": 9,
     "metadata": {},
     "output_type": "execute_result"
    }
   ],
   "source": [
    "df.loc[df['LIMIT_BAL']==32768]"
   ]
  },
  {
   "cell_type": "code",
   "execution_count": 10,
   "id": "f69c88d8",
   "metadata": {},
   "outputs": [],
   "source": [
    "df['LIMIT_BAL'] = df['LIMIT_BAL'].drop(index=12525, axis=0)"
   ]
  },
  {
   "cell_type": "code",
   "execution_count": 11,
   "id": "52b202f8",
   "metadata": {
    "scrolled": false
   },
   "outputs": [
    {
     "data": {
      "image/png": "[encoded data removed]",
      "text/plain": [
       "<Figure size 1080x360 with 1 Axes>"
      ]
     },
     "metadata": {
      "needs_background": "light"
     },
     "output_type": "display_data"
    }
   ],
   "source": [
    "plt.figure(figsize=(15,5))\n",
    "sns.boxplot(x=df.LIMIT_BAL);"
   ]
  },
  {
   "cell_type": "markdown",
   "id": "876abd43",
   "metadata": {},
   "source": [
    "#### 9 - Displaying Box Plot for Age"
   ]
  },
  {
   "cell_type": "code",
   "execution_count": 12,
   "id": "f9c04597",
   "metadata": {},
   "outputs": [
    {
     "data": {
      "image/png": "[encoded data removed]",
      "text/plain": [
       "<Figure size 1080x360 with 1 Axes>"
      ]
     },
     "metadata": {
      "needs_background": "light"
     },
     "output_type": "display_data"
    }
   ],
   "source": [
    "plt.figure(figsize=(15,5))\n",
    "sns.boxplot(x=df.AGE);"
   ]
  },
  {
   "cell_type": "markdown",
   "id": "f647345d",
   "metadata": {},
   "source": [
    "#### 10 - Droping all the null values"
   ]
  },
  {
   "cell_type": "code",
   "execution_count": 13,
   "id": "73408e7b",
   "metadata": {},
   "outputs": [],
   "source": [
    "df.dropna(inplace=True)"
   ]
  },
  {
   "cell_type": "markdown",
   "id": "2f341cc1",
   "metadata": {},
   "source": [
    "#### 11 - Performing Encoding on the Default Status Column"
   ]
  },
  {
   "cell_type": "code",
   "execution_count": 14,
   "id": "6093f897",
   "metadata": {},
   "outputs": [],
   "source": [
    "enc = LabelEncoder()"
   ]
  },
  {
   "cell_type": "markdown",
   "id": "d8c427fa",
   "metadata": {},
   "source": [
    "For Better accuracy of the model we will encode all columns instead of just one column"
   ]
  },
  {
   "cell_type": "code",
   "execution_count": 15,
   "id": "5ee439e6",
   "metadata": {},
   "outputs": [],
   "source": [
    "for col in df:\n",
    "    df[col] = enc.fit_transform(df[col])"
   ]
  },
  {
   "cell_type": "markdown",
   "id": "40b16500",
   "metadata": {},
   "source": [
    "# Part - 2 Working with the Models"
   ]
  },
  {
   "cell_type": "markdown",
   "id": "8f0f0c62",
   "metadata": {},
   "source": [
    "#### 1 - Creating Feature and Target Data for the Model"
   ]
  },
  {
   "cell_type": "code",
   "execution_count": 16,
   "id": "4fe635d2",
   "metadata": {},
   "outputs": [],
   "source": [
    "X = df.drop('Default Status', axis=1)\n",
    "y = df[['Default Status']]"
   ]
  },
  {
   "cell_type": "markdown",
   "id": "0cfba543",
   "metadata": {},
   "source": [
    "#### 2 - Spliting data into Training and Testing Datasets"
   ]
  },
  {
   "cell_type": "markdown",
   "id": "7275e8f5",
   "metadata": {},
   "source": [
    "#### 3 - Fitting Guassian Naive Bayes Classifier to the Model"
   ]
  },
  {
   "cell_type": "markdown",
   "id": "b952309a",
   "metadata": {},
   "source": [
    "Trying to find best test_score for better accuracy"
   ]
  },
  {
   "cell_type": "code",
   "execution_count": 17,
   "id": "72c7e558",
   "metadata": {},
   "outputs": [],
   "source": [
    "model = GaussianNB()"
   ]
  },
  {
   "cell_type": "code",
   "execution_count": 18,
   "id": "e36b7f10",
   "metadata": {},
   "outputs": [],
   "source": [
    "import warnings\n",
    "warnings.filterwarnings(\"ignore\")"
   ]
  },
  {
   "cell_type": "code",
   "execution_count": 19,
   "id": "0b3c3582",
   "metadata": {},
   "outputs": [
    {
     "data": {
      "image/png": "[encoded data removed]",
      "text/plain": [
       "<Figure size 1080x360 with 1 Axes>"
      ]
     },
     "metadata": {
      "needs_background": "light"
     },
     "output_type": "display_data"
    }
   ],
   "source": [
    "tr_score=[]\n",
    "ts_score=[]\n",
    "for i in np.arange(0.1,1,0.1):\n",
    "    X_train,X_test,y_train,y_test = train_test_split(X,y,test_size=i,random_state=6)\n",
    "    model.fit(X_train,y_train)\n",
    "    tr_score.append(model.score(X_train,y_train))\n",
    "    ts_score.append(model.score(X_test,y_test))\n",
    "\n",
    "plt.figure(figsize=(15,5))\n",
    "q = sns.lineplot(np.arange(0.1,1,0.1),tr_score,marker='*',label='train_score')\n",
    "q = sns.lineplot(np.arange(0.1,1,0.1),ts_score,marker='o',label='test_score')"
   ]
  },
  {
   "cell_type": "markdown",
   "id": "df3ad8c4",
   "metadata": {},
   "source": [
    "We can see from the graph that keeping test size at 0.9 yields best accuracy so we will go with that"
   ]
  },
  {
   "cell_type": "markdown",
   "id": "d9e66bda",
   "metadata": {},
   "source": [
    "#### 4 - Defining Function for the Precision score,Accuracy Score,Recall Score,Confusion Matrix,Classification Report"
   ]
  },
  {
   "cell_type": "code",
   "execution_count": 20,
   "id": "4d360818",
   "metadata": {},
   "outputs": [],
   "source": [
    "from sklearn.metrics import precision_score,accuracy_score,recall_score,confusion_matrix,classification_report"
   ]
  },
  {
   "cell_type": "code",
   "execution_count": 21,
   "id": "cccea84b",
   "metadata": {},
   "outputs": [],
   "source": [
    "def get_score(model,X_train,X_test,y_train,y_test):\n",
    "    X_train,X_test,y_train,y_test = train_test_split(X,y,test_size=0.9,random_state=6)\n",
    "    model.fit(X_train,y_train)\n",
    "    y_pred = model.predict(X_test)\n",
    "    print(\"Precision Score: \", precision_score(y_test,y_pred))\n",
    "    print(\"\")\n",
    "    print(\"Accuracy Score: \", accuracy_score(y_test,y_pred))\n",
    "    print(\"\")\n",
    "    print(\"Recall Score: \", recall_score(y_test,y_pred))\n",
    "    print(\"\")\n",
    "    print(classification_report(y_test,y_pred,digits=5))\n",
    "    print(\"\")\n",
    "    print(confusion_matrix(y_test,y_pred))"
   ]
  },
  {
   "cell_type": "code",
   "execution_count": 22,
   "id": "364b75a5",
   "metadata": {},
   "outputs": [
    {
     "name": "stdout",
     "output_type": "stream",
     "text": [
      "Precision Score:  0.7788232668848557\n",
      "\n",
      "Accuracy Score:  0.7766296296296297\n",
      "\n",
      "Recall Score:  0.9960047562425683\n",
      "\n",
      "              precision    recall  f1-score   support\n",
      "\n",
      "           0    0.25000   0.00469   0.00920      5975\n",
      "           1    0.77882   0.99600   0.87413     21025\n",
      "\n",
      "    accuracy                        0.77663     27000\n",
      "   macro avg    0.51441   0.50035   0.44166     27000\n",
      "weighted avg    0.66180   0.77663   0.68272     27000\n",
      "\n",
      "\n",
      "[[   28  5947]\n",
      " [   84 20941]]\n"
     ]
    }
   ],
   "source": [
    "get_score(model,X_train,X_test,y_train,y_test)"
   ]
  }
 ],
 "metadata": {
  "kernelspec": {
   "display_name": "Python 3 (ipykernel)",
   "language": "python",
   "name": "python3"
  },
  "language_info": {
   "codemirror_mode": {
    "name": "ipython",
    "version": 3
   },
   "file_extension": ".py",
   "mimetype": "text/x-python",
   "name": "python",
   "nbconvert_exporter": "python",
   "pygments_lexer": "ipython3",
   "version": "3.9.12"
  }
 },
 "nbformat": 4,
 "nbformat_minor": 5
}
